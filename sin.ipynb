{
 "cells": [
  {
   "cell_type": "markdown",
   "metadata": {},
   "source": [
    "$$f=b\\sin(ax)$$"
   ]
  },
  {
   "cell_type": "code",
   "execution_count": null,
   "metadata": {
    "collapsed": false
   },
   "outputs": [],
   "source": [
    "%matplotlib inline  \n",
    "import matplotlib\n",
    "import numpy as np\n",
    "import matplotlib.pyplot as plt\n",
    "from ipywidgets import interact, FloatSlider, RadioButtons\n",
    "\n",
    "a_slider = FloatSlider(min=0.01, max=2.0, step=0.02, value=0.4)\n",
    "b_slider = FloatSlider(min=0.01, max=20.0, step=0.5, value=7.)\n",
    "\n",
    "x = np.linspace(0,np.pi*4, 500)\n",
    "\n",
    "@interact(a=a_slider, b=b_slider)\n",
    "def f(a, b):\n",
    "    y = a*np.sin(b*x)\n",
    "    fig, ax = plt.subplots(figsize=(10, 6),\n",
    "                           subplot_kw={'axisbg':'#EEEEEE',\n",
    "                                       'axisbelow':True})\n",
    "    ax.grid(color='w', linewidth=2, linestyle='solid')\n",
    "    ax.plot(x,y, \"-\", lw=1, alpha=0.7, c=\"g\", label=\"sin\")\n",
    "\n",
    "    ax.legend(loc=\"lower right\")"
   ]
  },
  {
   "cell_type": "code",
   "execution_count": null,
   "metadata": {
    "collapsed": false
   },
   "outputs": [],
   "source": [
    "import pymech.hardening\n",
    "import numpy as np\n",
    "h = pymech.hardening.Hockett([1500., 1400., 7., .65])\n",
    "eps = np.linspace(0., 1., 200)\n",
    "sig = h.sigeq(eps)\n",
    "print sig"
   ]
  },
  {
   "cell_type": "code",
   "execution_count": null,
   "metadata": {
    "collapsed": false
   },
   "outputs": [],
   "source": [
    "import os\n",
    "os.getcwd()"
   ]
  },
  {
   "cell_type": "code",
   "execution_count": null,
   "metadata": {
    "collapsed": false
   },
   "outputs": [],
   "source": [
    "os.listdir(os.getcwd())"
   ]
  },
  {
   "cell_type": "code",
   "execution_count": null,
   "metadata": {
    "collapsed": true
   },
   "outputs": [],
   "source": []
  }
 ],
 "metadata": {
  "kernelspec": {
   "display_name": "Python 2",
   "language": "python",
   "name": "python2"
  },
  "language_info": {
   "codemirror_mode": {
    "name": "ipython",
    "version": 2
   },
   "file_extension": ".py",
   "mimetype": "text/x-python",
   "name": "python",
   "nbconvert_exporter": "python",
   "pygments_lexer": "ipython2",
   "version": "2.7.9"
  }
 },
 "nbformat": 4,
 "nbformat_minor": 0
}
